{
 "cells": [
  {
   "cell_type": "code",
   "execution_count": 1,
   "id": "81e5f889",
   "metadata": {
    "ExecuteTime": {
     "end_time": "2024-10-24T13:32:03.085877Z",
     "start_time": "2024-10-24T13:32:02.933111Z"
    }
   },
   "outputs": [
    {
     "name": "stdout",
     "output_type": "stream",
     "text": [
      "Using CAMB 1.5.8 installed at /home/gilee/CAMB/camb\n"
     ]
    }
   ],
   "source": [
    "import os\n",
    "import numpy as np\n",
    "import matplotlib.pyplot as plt\n",
    "\n",
    "import camb \n",
    "from camb import model\n",
    "print(f'Using CAMB {camb.__version__} installed at {os.path.dirname(camb.__file__)}')"
   ]
  },
  {
   "cell_type": "code",
   "execution_count": 9,
   "id": "ca246a70",
   "metadata": {
    "ExecuteTime": {
     "end_time": "2024-10-24T13:37:54.760615Z",
     "start_time": "2024-10-24T13:37:54.755793Z"
    }
   },
   "outputs": [],
   "source": [
    "def initialize_camb_params(cosmo_params, z):\n",
    "\n",
    "    h = cosmo_params['h']\n",
    "    Omega_b = cosmo_params['Omega_b']\n",
    "    Omega_c = cosmo_params['Omega_c']\n",
    "    Omega_k = cosmo_params['Omega_k']\n",
    "    w0 = cosmo_params['w0']\n",
    "    wa = cosmo_params['wa']\n",
    "    As = cosmo_params['As']\n",
    "    ns = cosmo_params['ns']\n",
    "    kmax = cosmo_params['kmax']\n",
    "    k_per_logint = cosmo_params['k_per_logint']\n",
    "    \n",
    "    pars = camb.CAMBparams()\n",
    "    pars.set_cosmology(H0=100*h, ombh2=Omega_b*h*h, omch2=Omega_c*h*h, omk=Omega_k)\n",
    "    pars.DarkEnergy = camb.dark_energy.DarkEnergyPPF(w=w0, wa=wa)\n",
    "    pars.InitPower.set_params(As=As, ns=ns)\n",
    "    pars.set_matter_power(redshifts=z, kmax=kmax, k_per_logint=k_per_logint)\n",
    "    pars.NonLinear = model.NonLinear_none\n",
    "    \n",
    "    return pars"
   ]
  },
  {
   "cell_type": "code",
   "execution_count": 10,
   "id": "529cda53",
   "metadata": {
    "ExecuteTime": {
     "end_time": "2024-10-24T13:37:55.186059Z",
     "start_time": "2024-10-24T13:37:55.181256Z"
    }
   },
   "outputs": [],
   "source": [
    "def adjust_As_at_z0(pars, cosmo_params):\n",
    "    \n",
    "    z0 = pars.Transfer.PK_redshifts[-1] # as CAMB sorts redshifts (earliest first)\n",
    "\n",
    "    if z0 != 0:\n",
    "        print(f\"Redshifts should incldue 0 here, as we normalize sigma8 at z=0.\")\n",
    "        return None\n",
    "\n",
    "    results = camb.get_results(pars)\n",
    "    sigma8_calc = results.get_sigma8()[-1]\n",
    "    sigma8_goal = cosmo_params['sigma8_z0_WMAP5']\n",
    "\n",
    "    print(f\"Target     sigma8 = {sigma8_goal} at z = {z0}\")\n",
    "    print(f\"Initial    sigma8 = {sigma8_calc}, As = {pars.InitPower.As} (trial)\")\n",
    "\n",
    "    As = pars.InitPower.As * (sigma8_goal / sigma8_calc)**2 # new normalization\n",
    "    pars.InitPower.set_params(As=As, ns=pars.InitPower.ns) # set new parameterization\n",
    "\n",
    "    # Get new results and sigma8 value\n",
    "    results = camb.get_results(pars)\n",
    "    sigma8 = results.get_sigma8()[-1]\n",
    "    print(f\"Normalized sigma8 = {sigma8}, diff={sigma8 - sigma8_goal}, As = {pars.InitPower.As} (new)\")\n",
    "    \n",
    "    return pars"
   ]
  },
  {
   "cell_type": "code",
   "execution_count": 11,
   "id": "544bcb3c",
   "metadata": {
    "ExecuteTime": {
     "end_time": "2024-10-24T13:37:55.498346Z",
     "start_time": "2024-10-24T13:37:55.494776Z"
    }
   },
   "outputs": [],
   "source": [
    "bias8_z0_WMAP5  = 1.26             # target value # bias8 at z=0\n",
    "sigma8_z0_WMAP5 = 1/bias8_z0_WMAP5 # target value # sigma8 at z=0\n",
    "\n",
    "As0       = 2e-9                   # trial value # power spectrum noramlization factor at k=k0\n",
    "ns        = 0.96                   # power spectral index\n",
    "h         = 0.72                   # little h, dimensionless hubble parameter, H0 = 100*h [km/s/Mpc]\n",
    "\n",
    "Omega_m   = 0.26                   # physical total matter density\n",
    "Omega_b   = 0.044                  # physical baryon density\n",
    "Omega_c   = Omega_m - Omega_b      # physical CDM (cold dark mattery) density\n",
    "Omega_l   = 1 - Omega_m            # DE (dark energy) density\n",
    "Omega_k   = 0.0                    # spatial curvature\n",
    "\n",
    "# EoS of DE\n",
    "w0 = -1\n",
    "wa = 0"
   ]
  },
  {
   "cell_type": "code",
   "execution_count": 12,
   "id": "3e2aff61",
   "metadata": {
    "ExecuteTime": {
     "end_time": "2024-10-24T13:37:55.931943Z",
     "start_time": "2024-10-24T13:37:55.923290Z"
    }
   },
   "outputs": [
    {
     "name": "stdout",
     "output_type": "stream",
     "text": [
      "\n",
      "Simulation Setups:\n",
      "  z_start       =  200\n",
      "  a_start       =  0.004975124378109453\n",
      "  Lbox [cMpc]   =  131.072\n",
      "  Lbox [cMpc/h] =  94.37183999999999\n",
      "  dx_ini [ckpc] =  128.0\n",
      "  dx_ini [pkpc] =  0.6368159203980099\n",
      "  dx_fin [pkpc] =  1.0\n",
      "  levelmin      =  10\n",
      "  levelmax      =  17\n",
      "  Ncell_ini     =  1024\n",
      "\n",
      "Power Sepctrum Parameters:\n",
      "  kmin   [1/Mpc] =  0.047936899621426284\n",
      "  kmax   [1/Mpc] =  24.543692606170257\n"
     ]
    }
   ],
   "source": [
    "# starting redshift\n",
    "z_start = 200\n",
    "a_start = 1/(z_start+1)\n",
    "\n",
    "# simulation box setups (See Jupyter Notebook 00. for details)\n",
    "levelmin = 10 # initial level\n",
    "levelmax = levelmin + 7 # final level at z=0\n",
    "# Here, `7` is fixed number, as this is the number of global refinement in the ramses code.\n",
    "n_cell0  = 2**levelmin # initial cell numbers\n",
    "c_Lbox   = 2**levelmax / 1000 # [cMpc] # comoving box size\n",
    "c_dx0    = c_Lbox / n_cell0   # [cMpc] # comoving initial cell size\n",
    "\n",
    "print(\"\\nSimulation Setups:\")\n",
    "print(\"  z_start       = \", z_start)\n",
    "print(\"  a_start       = \", a_start)\n",
    "print(\"  Lbox [cMpc]   = \", c_Lbox)\n",
    "print(\"  Lbox [cMpc/h] = \", c_Lbox*h)\n",
    "print(\"  dx_ini [ckpc] = \", c_dx0 * 1000)\n",
    "print(\"  dx_ini [pkpc] = \", c_dx0 * 1000 / (z_start + 1))\n",
    "print(\"  dx_fin [pkpc] = \", c_dx0 * 1000 / 2**7)\n",
    "print(\"  levelmin      = \", levelmin)\n",
    "print(\"  levelmax      = \", levelmax)\n",
    "print(\"  Ncell_ini     = \", n_cell0)\n",
    "\n",
    "# power spectrum params\n",
    "kmin = 2 * np.pi / c_Lbox       # [1/Mpc] # largest scale (box size)\n",
    "kmax = np.pi * n_cell0 / c_Lbox # [1/Mpc] # smallest scale (Nyquist wavenumber)\n",
    "khmin = kmin/h                  # [1/Mpc] # largest scale (box size)\n",
    "khmax = kmax/h                  # [1/Mpc] # smallest scale (Nyquist wavenumber)\n",
    "k0  = 0.05                      # [1/Mpc] pivot_scalar\n",
    "kh0 = k0/h                      # [1/Mpc] pivot_scalar\n",
    "k_per_logint = 0 # default: 0 # affects the number of k values\n",
    "\n",
    "print(\"\\nPower Sepctrum Parameters:\")\n",
    "print(\"  kmin   [1/Mpc] = \", kmin)\n",
    "print(\"  kmax   [1/Mpc] = \", kmax)"
   ]
  },
  {
   "cell_type": "code",
   "execution_count": 13,
   "id": "0bc1f126",
   "metadata": {
    "ExecuteTime": {
     "end_time": "2024-10-24T13:37:56.395057Z",
     "start_time": "2024-10-24T13:37:56.391400Z"
    }
   },
   "outputs": [],
   "source": [
    "# Cosmological Parameters\n",
    "cosmo_params = {\n",
    "    'As': As0, # trial number (before normalization)\n",
    "    'ns': ns,\n",
    "    'h': h,\n",
    "    'bias8_z0_WMAP5': bias8_z0_WMAP5,\n",
    "    'Omega_m': Omega_m,\n",
    "    'Omega_b': Omega_b,\n",
    "    'Omega_k': Omega_k,\n",
    "    'w0': w0,\n",
    "    'wa': wa,\n",
    "    'kmax': kmax,\n",
    "    'k_per_logint': k_per_logint\n",
    "}\n",
    "\n",
    "cosmo_params['sigma8_z0_WMAP5'] = 1/cosmo_params['bias8_z0_WMAP5']\n",
    "cosmo_params['Omega_c'] = cosmo_params['Omega_m'] - cosmo_params['Omega_b']\n",
    "cosmo_params['Omega_l'] = 1 - cosmo_params['Omega_m']"
   ]
  },
  {
   "cell_type": "code",
   "execution_count": 14,
   "id": "2841e1ea",
   "metadata": {
    "ExecuteTime": {
     "end_time": "2024-10-24T13:37:56.852202Z",
     "start_time": "2024-10-24T13:37:56.848501Z"
    }
   },
   "outputs": [
    {
     "data": {
      "text/plain": [
       "{'As': 2e-09,\n",
       " 'ns': 0.96,\n",
       " 'h': 0.72,\n",
       " 'bias8_z0_WMAP5': 1.26,\n",
       " 'Omega_m': 0.26,\n",
       " 'Omega_b': 0.044,\n",
       " 'Omega_k': 0.0,\n",
       " 'w0': -1,\n",
       " 'wa': 0,\n",
       " 'kmax': 24.543692606170257,\n",
       " 'k_per_logint': 0,\n",
       " 'sigma8_z0_WMAP5': 0.7936507936507936,\n",
       " 'Omega_c': 0.21600000000000003,\n",
       " 'Omega_l': 0.74}"
      ]
     },
     "execution_count": 14,
     "metadata": {},
     "output_type": "execute_result"
    }
   ],
   "source": [
    "cosmo_params"
   ]
  },
  {
   "cell_type": "code",
   "execution_count": 15,
   "id": "efad50ad",
   "metadata": {
    "ExecuteTime": {
     "end_time": "2024-10-24T13:37:57.269384Z",
     "start_time": "2024-10-24T13:37:57.266786Z"
    }
   },
   "outputs": [],
   "source": [
    "z = [z_start, 150, 100, 20, 10, 1, 0] # should contain z_start and 0\n",
    "z.sort(reverse=True) # should be descending order"
   ]
  },
  {
   "cell_type": "code",
   "execution_count": 16,
   "id": "66d899ec",
   "metadata": {
    "ExecuteTime": {
     "end_time": "2024-10-24T13:37:59.298752Z",
     "start_time": "2024-10-24T13:37:57.775154Z"
    }
   },
   "outputs": [
    {
     "name": "stdout",
     "output_type": "stream",
     "text": [
      "Target     sigma8 = 0.7936507936507936 at z = 0.0\n",
      "Initial    sigma8 = 0.7628693474928042, As = 2e-09 (trial)\n",
      "Normalized sigma8 = 0.7936507936507937, diff=1.1102230246251565e-16, As = 2.1646544338903384e-09 (new)\n"
     ]
    }
   ],
   "source": [
    "pars    = initialize_camb_params(cosmo_params, z=z) # initialize\n",
    "pars    = adjust_As_at_z0(pars, cosmo_params) # normalization"
   ]
  },
  {
   "cell_type": "code",
   "execution_count": 17,
   "id": "fc7a4259",
   "metadata": {
    "ExecuteTime": {
     "end_time": "2024-10-24T13:38:05.752893Z",
     "start_time": "2024-10-24T13:38:05.749594Z"
    }
   },
   "outputs": [],
   "source": [
    "cosmo_params['As'] = pars.InitPower.As # update the As value"
   ]
  },
  {
   "cell_type": "code",
   "execution_count": 23,
   "id": "b8196d13",
   "metadata": {
    "ExecuteTime": {
     "end_time": "2024-10-24T13:39:52.832471Z",
     "start_time": "2024-10-24T13:39:52.178249Z"
    }
   },
   "outputs": [],
   "source": [
    "results   = camb.get_results(pars)\n",
    "sigma8_z0 = results.get_sigma8()[-1]"
   ]
  },
  {
   "cell_type": "code",
   "execution_count": 33,
   "id": "03946411",
   "metadata": {
    "ExecuteTime": {
     "end_time": "2024-10-24T13:40:41.908788Z",
     "start_time": "2024-10-24T13:40:41.903710Z"
    }
   },
   "outputs": [
    {
     "data": {
      "text/plain": [
       "(13, 217, 7)"
      ]
     },
     "execution_count": 33,
     "metadata": {},
     "output_type": "execute_result"
    }
   ],
   "source": [
    "transfers = results.get_matter_transfer_data()\n",
    "T = transfers.transfer_data\n",
    "T.shape # [var, k, z]"
   ]
  },
  {
   "cell_type": "code",
   "execution_count": 41,
   "id": "6911dc13",
   "metadata": {
    "ExecuteTime": {
     "end_time": "2024-10-24T13:43:26.103362Z",
     "start_time": "2024-10-24T13:43:26.099969Z"
    }
   },
   "outputs": [],
   "source": [
    "header = \"\\n\".join([f\"{key}: {value}\" for key, value in cosmo_params.items()])"
   ]
  },
  {
   "cell_type": "code",
   "execution_count": 42,
   "id": "a8068449",
   "metadata": {
    "ExecuteTime": {
     "end_time": "2024-10-24T13:43:26.899788Z",
     "start_time": "2024-10-24T13:43:26.896808Z"
    }
   },
   "outputs": [],
   "source": [
    "iz = z.index(z_start)"
   ]
  },
  {
   "cell_type": "code",
   "execution_count": 43,
   "id": "243f440c",
   "metadata": {
    "ExecuteTime": {
     "end_time": "2024-10-24T13:43:27.288727Z",
     "start_time": "2024-10-24T13:43:27.279942Z"
    }
   },
   "outputs": [
    {
     "name": "stdout",
     "output_type": "stream",
     "text": [
      "MUSIC input data is created: ./camb_transfer_z200_w0-1.0_wa+0.0_klogint000_lmin10.txt\n"
     ]
    }
   ],
   "source": [
    "plus_w0 = '+' if w0 >= 0 else ''\n",
    "plus_wa = '+' if wa >= 0 else ''\n",
    "fname = f\"camb_transfer_z{z[iz]:03.0f}_w0{plus_w0}{w0:.1f}_wa{plus_wa}{wa:.1f}_klogint{k_per_logint:03d}_lmin{levelmin:02d}.txt\"\n",
    "np.savetxt(f\"./{fname}\", T[:,:,iz].T, fmt=\"%.10e\", header=header)\n",
    "print(f\"MUSIC input data is created: ./{fname}\")"
   ]
  },
  {
   "cell_type": "code",
   "execution_count": 36,
   "id": "25b73606",
   "metadata": {
    "ExecuteTime": {
     "end_time": "2024-10-24T13:40:43.311371Z",
     "start_time": "2024-10-24T13:40:43.307760Z"
    }
   },
   "outputs": [
    {
     "name": "stdout",
     "output_type": "stream",
     "text": [
      "The number of k values =  217\n"
     ]
    }
   ],
   "source": [
    "print(\"The number of k values = \", T.shape[1])"
   ]
  },
  {
   "cell_type": "code",
   "execution_count": null,
   "id": "5d5c8eb4",
   "metadata": {},
   "outputs": [],
   "source": []
  }
 ],
 "metadata": {
  "kernelspec": {
   "display_name": "Python 3 (ipykernel)",
   "language": "python",
   "name": "python3"
  },
  "language_info": {
   "codemirror_mode": {
    "name": "ipython",
    "version": 3
   },
   "file_extension": ".py",
   "mimetype": "text/x-python",
   "name": "python",
   "nbconvert_exporter": "python",
   "pygments_lexer": "ipython3",
   "version": "3.8.8"
  },
  "varInspector": {
   "cols": {
    "lenName": 16,
    "lenType": 16,
    "lenVar": 40
   },
   "kernels_config": {
    "python": {
     "delete_cmd_postfix": "",
     "delete_cmd_prefix": "del ",
     "library": "var_list.py",
     "varRefreshCmd": "print(var_dic_list())"
    },
    "r": {
     "delete_cmd_postfix": ") ",
     "delete_cmd_prefix": "rm(",
     "library": "var_list.r",
     "varRefreshCmd": "cat(var_dic_list()) "
    }
   },
   "types_to_exclude": [
    "module",
    "function",
    "builtin_function_or_method",
    "instance",
    "_Feature"
   ],
   "window_display": false
  }
 },
 "nbformat": 4,
 "nbformat_minor": 5
}
