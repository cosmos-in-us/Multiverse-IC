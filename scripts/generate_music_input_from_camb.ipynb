{
 "cells": [
  {
   "cell_type": "code",
   "execution_count": 1,
   "id": "81e5f889",
   "metadata": {
    "ExecuteTime": {
     "end_time": "2024-11-03T12:04:06.715391Z",
     "start_time": "2024-11-03T12:04:06.611795Z"
    }
   },
   "outputs": [
    {
     "name": "stdout",
     "output_type": "stream",
     "text": [
      "Using CAMB 1.5.8 installed at /home/gilee/CAMB/camb\n"
     ]
    }
   ],
   "source": [
    "import os\n",
    "import numpy as np\n",
    "import matplotlib.pyplot as plt\n",
    "\n",
    "import camb \n",
    "from camb import model\n",
    "print(f'Using CAMB {camb.__version__} installed at {os.path.dirname(camb.__file__)}')"
   ]
  },
  {
   "cell_type": "code",
   "execution_count": 2,
   "id": "ca246a70",
   "metadata": {
    "ExecuteTime": {
     "end_time": "2024-11-03T12:04:08.849945Z",
     "start_time": "2024-11-03T12:04:08.846094Z"
    }
   },
   "outputs": [],
   "source": [
    "def initialize_camb_params(cosmo_params, z):\n",
    "    \n",
    "    h = cosmo_params['h']\n",
    "    Omega_b = cosmo_params['Omega_b']\n",
    "    Omega_c = cosmo_params['Omega_c']\n",
    "    Omega_k = cosmo_params['Omega_k']\n",
    "    w0 = cosmo_params['w0']\n",
    "    wa = cosmo_params['wa']\n",
    "    As = cosmo_params['As']\n",
    "    ns = cosmo_params['ns']\n",
    "    kmax = cosmo_params['kmax']\n",
    "    k_per_logint = cosmo_params['k_per_logint']\n",
    "    \n",
    "    pars = camb.CAMBparams()\n",
    "    pars.set_cosmology(H0=100*h, ombh2=Omega_b*h*h, omch2=Omega_c*h*h, omk=Omega_k)\n",
    "    pars.DarkEnergy = camb.dark_energy.DarkEnergyPPF(w=w0, wa=wa)\n",
    "    pars.InitPower.set_params(As=As, ns=ns)\n",
    "    pars.set_matter_power(redshifts=z, kmax=kmax, k_per_logint=k_per_logint)\n",
    "    pars.NonLinear = model.NonLinear_none\n",
    "    \n",
    "    return pars"
   ]
  },
  {
   "cell_type": "code",
   "execution_count": 3,
   "id": "529cda53",
   "metadata": {
    "ExecuteTime": {
     "end_time": "2024-11-03T12:04:09.983663Z",
     "start_time": "2024-11-03T12:04:09.977537Z"
    }
   },
   "outputs": [],
   "source": [
    "def adjust_As_at_z0(pars, cosmo_params):\n",
    "    \n",
    "    z0 = pars.Transfer.PK_redshifts[-1] # as CAMB sorts redshifts (earliest first)\n",
    "\n",
    "    if z0 != 0:\n",
    "        print(f\"Redshifts should incldue 0 here, as we normalize sigma8 at z=0.\")\n",
    "        return None\n",
    "\n",
    "    results = camb.get_results(pars)\n",
    "    sigma8_calc = results.get_sigma8()[-1] # sigma8 at z=0\n",
    "    sigma8_goal = cosmo_params['sigma8_z0_WMAP5'] # target sigma8 at z=0\n",
    "\n",
    "    print(f\"Target     sigma8 = {sigma8_goal} at z = {z0}\")\n",
    "    print(f\"Initial    sigma8 = {sigma8_calc}, As = {pars.InitPower.As} (trial)\")\n",
    "\n",
    "    As = pars.InitPower.As * (sigma8_goal / sigma8_calc)**2 # new normalization\n",
    "    pars.InitPower.set_params(As=As, ns=pars.InitPower.ns) # set new parameterization\n",
    "\n",
    "    # Get new results and sigma8 value\n",
    "    results = camb.get_results(pars)\n",
    "    sigma8 = results.get_sigma8()[-1] # new sigma8 at z=0\n",
    "    print(f\"Normalized sigma8 = {sigma8}, diff={sigma8 - sigma8_goal}, As = {pars.InitPower.As} (new)\")\n",
    "    \n",
    "    return pars"
   ]
  },
  {
   "cell_type": "code",
   "execution_count": 4,
   "id": "544bcb3c",
   "metadata": {
    "ExecuteTime": {
     "end_time": "2024-11-03T12:04:11.086928Z",
     "start_time": "2024-11-03T12:04:11.083809Z"
    }
   },
   "outputs": [],
   "source": [
    "bias8_z0_WMAP5  = 1.26             # target value # bias8 at z=0\n",
    "\n",
    "As0       = 2e-9                   # trial value # power spectrum noramlization factor at k=k0\n",
    "ns        = 0.96                   # power spectral index\n",
    "h         = 0.72                   # little h, dimensionless hubble parameter, H0 = 100*h [km/s/Mpc]\n",
    "\n",
    "Omega_m   = 0.26                   # physical total matter density\n",
    "Omega_b   = 0.044                  # physical baryon density\n",
    "Omega_k   = 0.0                    # spatial curvature\n",
    "\n",
    "# EoS of DE\n",
    "w0 = -1\n",
    "wa = 0"
   ]
  },
  {
   "cell_type": "code",
   "execution_count": 5,
   "id": "e439bd8b",
   "metadata": {
    "ExecuteTime": {
     "end_time": "2024-11-03T12:04:11.170063Z",
     "start_time": "2024-11-03T12:04:11.166414Z"
    }
   },
   "outputs": [
    {
     "name": "stdout",
     "output_type": "stream",
     "text": [
      "For given paramters:\n",
      "  - z_start   = 200\n",
      "  - levelmin  = 10 (#cell = 1024)\n",
      "  - dx_fin    = 1 [kpc] at z = 0 (target resolution)\n",
      "  - FlagAMR   = 1 (1: Turn on AMR, 0: Turn off AMR)\n",
      "  - FlagZoom  = 0 (1: Zoom-in, 0: uni-grid)\n"
     ]
    }
   ],
   "source": [
    "# For given parameters, Lbox will be determined.\n",
    "z_start    = 200  # starting redshift\n",
    "levelmin   = 10   # initial cell size = 2**levelmin\n",
    "dx_fin_kpc = 1    # [kpc] or [ckpc]: final resolution at z=0\n",
    "FlagAMR    = 1    # flag for AMR\n",
    "FlagZoom   = 0    # flag for zoom-in IC\n",
    "\n",
    "print(\"For given paramters:\")\n",
    "print(f\"  - z_start   = {z_start}\")\n",
    "print(f\"  - levelmin  = {levelmin} (#cell = {2**levelmin})\")\n",
    "print(f\"  - dx_fin    = {dx_fin_kpc} [kpc] at z = 0 (target resolution)\")\n",
    "print(f\"  - FlagAMR   = {FlagAMR} (1: Turn on AMR, 0: Turn off AMR)\")\n",
    "print(f\"  - FlagZoom  = {FlagZoom} (1: Zoom-in, 0: uni-grid)\")"
   ]
  },
  {
   "cell_type": "code",
   "execution_count": 6,
   "id": "3e2aff61",
   "metadata": {
    "ExecuteTime": {
     "end_time": "2024-11-03T12:04:11.262669Z",
     "start_time": "2024-11-03T12:04:11.257069Z"
    }
   },
   "outputs": [
    {
     "name": "stdout",
     "output_type": "stream",
     "text": [
      "Starting redshift (z0): 200\n",
      "Starting scale factor (a0): 1/200 = 0.004975124378109453\n",
      "Global refinement times:\n",
      "  a =     0.0125, z =    79.0000\n",
      "  a =     0.0250, z =    39.0000\n",
      "  a =     0.0500, z =    19.0000\n",
      "  a =     0.1000, z =     9.0000\n",
      "  a =     0.2000, z =     4.0000\n",
      "  a =     0.4000, z =     1.5000\n",
      "  a =     0.8000, z =     0.2500\n",
      "Minimum level (levelmin): 10\n",
      "Maximum level (levelmax): 17\n",
      "Comoving box size (c_Lbox) in cMpc:   131.0720\n",
      "Comoving box size (c_Lbox) in cMpc/h:    94.3718\n"
     ]
    }
   ],
   "source": [
    "# Starting redshift and scale factor\n",
    "a_start = 1/(z_start + 1)\n",
    "\n",
    "# Global refinemnent times (fixed)\n",
    "if FlagAMR == 0: a_refine = np.array([])\n",
    "if FlagAMR == 1: a_refine = np.array([0.0125, 0.025, 0.05, 0.1, 0.2, 0.4, 0.8])\n",
    "z_refine = 1/a_refine - 1\n",
    "\n",
    "# Level settins\n",
    "levelmax = levelmin + len(a_refine) # level at z=0\n",
    "# If a_start < a_refine.min(), just add len(a_refine).\n",
    "# If a_start > a_refine.min(), the code has to be modified.\n",
    "\n",
    "# Box size calculation\n",
    "n_cell0 = 2**levelmin          # initial number of cell\n",
    "c_Lbox_kpc = 2**levelmax * dx_fin_kpc # [ckpc] comoving box size\n",
    "c_Lbox_Mpc = c_Lbox_kpc/1000   # [cMpc] comoving box size\n",
    "\n",
    "# Print the parameters\n",
    "print(f\"Starting redshift (z0): {z_start}\")\n",
    "print(f\"Starting scale factor (a0): 1/{z_start} = {a_start}\")\n",
    "print(f\"Global refinement times:\")\n",
    "for a_r, z_r in zip(a_refine, z_refine):\n",
    "    print(f\"  a = {a_r:10.4f}, z = {z_r:10.4f}\")\n",
    "print(f\"Minimum level (levelmin): {levelmin}\")\n",
    "print(f\"Maximum level (levelmax): {levelmax}\")\n",
    "print(f\"Comoving box size (c_Lbox) in cMpc: {c_Lbox_Mpc:10.4f}\")\n",
    "print(f\"Comoving box size (c_Lbox) in cMpc/h: {c_Lbox_Mpc*h:10.4f}\")"
   ]
  },
  {
   "cell_type": "code",
   "execution_count": 7,
   "id": "47963b4b",
   "metadata": {
    "ExecuteTime": {
     "end_time": "2024-11-03T12:04:13.388518Z",
     "start_time": "2024-11-03T12:04:13.384867Z"
    }
   },
   "outputs": [
    {
     "name": "stdout",
     "output_type": "stream",
     "text": [
      "\n",
      "Power Sepctrum Parameters:\n",
      "  kmin   [1/Mpc] =  0.047936899621426284\n",
      "  kmax   [1/Mpc] =  24.543692606170257\n"
     ]
    }
   ],
   "source": [
    "# power spectrum params\n",
    "kmin = 2 * np.pi / c_Lbox_Mpc       # [1/Mpc] # largest scale (box size)\n",
    "kmax = np.pi * n_cell0 / c_Lbox_Mpc # [1/Mpc] # smallest scale (Nyquist wavenumber)\n",
    "khmin = kmin/h                      # [1/Mpc] # largest scale (box size)\n",
    "khmax = kmax/h                      # [1/Mpc] # smallest scale (Nyquist wavenumber)\n",
    "k0  = 0.05                          # [1/Mpc] pivot_scalar\n",
    "kh0 = k0/h                          # [1/Mpc] pivot_scalar\n",
    "k_per_logint = 0 # default: 0 # affects the number of k values\n",
    "\n",
    "print(\"\\nPower Sepctrum Parameters:\")\n",
    "print(\"  kmin   [1/Mpc] = \", kmin)\n",
    "print(\"  kmax   [1/Mpc] = \", kmax)"
   ]
  },
  {
   "cell_type": "code",
   "execution_count": null,
   "id": "0bc1f126",
   "metadata": {
    "ExecuteTime": {
     "start_time": "2024-11-03T12:04:13.393Z"
    }
   },
   "outputs": [],
   "source": [
    "# Cosmological Parameters\n",
    "cosmo_params = {\n",
    "    'z_start': z_start,\n",
    "    'Lbox_cMpc': c_Lbox_Mpc,\n",
    "    'Lbox_cMpc/h': c_Lbox_Mpc*h,\n",
    "    'dx_fin_kpc': dx_fin_kpc,\n",
    "    'levelmin': levelmin,\n",
    "    'levelmax': levelmax,\n",
    "    'FlagAMR': FlagAMR,\n",
    "    'FlagZoom': FlagZoom,\n",
    "    'k0': k0,\n",
    "    'As': As0, # trial number (before normalization)\n",
    "    'ns': ns,\n",
    "    'h': h,\n",
    "    'bias8_z0_WMAP5': bias8_z0_WMAP5,\n",
    "    'Omega_m': Omega_m,\n",
    "    'Omega_b': Omega_b,\n",
    "    'Omega_k': Omega_k,\n",
    "    'w0': w0,\n",
    "    'wa': wa,\n",
    "    'kmax': kmax,\n",
    "    'k_per_logint': k_per_logint\n",
    "}\n",
    "\n",
    "cosmo_params['sigma8_z0_WMAP5'] = 1/cosmo_params['bias8_z0_WMAP5']\n",
    "cosmo_params['Omega_c'] = cosmo_params['Omega_m'] - cosmo_params['Omega_b']\n",
    "cosmo_params['Omega_l'] = 1 - cosmo_params['Omega_m']"
   ]
  },
  {
   "cell_type": "code",
   "execution_count": 9,
   "id": "2841e1ea",
   "metadata": {
    "ExecuteTime": {
     "end_time": "2024-11-03T12:04:14.576708Z",
     "start_time": "2024-11-03T12:04:14.571550Z"
    }
   },
   "outputs": [
    {
     "data": {
      "text/plain": [
       "{'z_start': 200,\n",
       " 'Lbox_cMpc': 131.072,\n",
       " 'Lbox_cMpc/h': 94.37183999999999,\n",
       " 'dx_fin_kpc': 1,\n",
       " 'levelmin': 10,\n",
       " 'levelmax': 17,\n",
       " 'FlagAMR': 1,\n",
       " 'FlagZoom': 0,\n",
       " 'k0': 0.05,\n",
       " 'As': 2e-09,\n",
       " 'ns': 0.96,\n",
       " 'h': 0.72,\n",
       " 'bias8_z0_WMAP5': 1.26,\n",
       " 'Omega_m': 0.26,\n",
       " 'Omega_b': 0.044,\n",
       " 'Omega_k': 0.0,\n",
       " 'w0': -1,\n",
       " 'wa': 0,\n",
       " 'kmax': 24.543692606170257,\n",
       " 'k_per_logint': 0,\n",
       " 'sigma8_z0_WMAP5': 0.7936507936507936,\n",
       " 'Omega_c': 0.21600000000000003,\n",
       " 'Omega_l': 0.74}"
      ]
     },
     "execution_count": 9,
     "metadata": {},
     "output_type": "execute_result"
    }
   ],
   "source": [
    "cosmo_params"
   ]
  },
  {
   "cell_type": "code",
   "execution_count": 10,
   "id": "efad50ad",
   "metadata": {
    "ExecuteTime": {
     "end_time": "2024-11-03T12:04:14.695404Z",
     "start_time": "2024-11-03T12:04:14.693418Z"
    }
   },
   "outputs": [],
   "source": [
    "z = [z_start, 150, 100, 20, 10, 1, 0] # should contain z_start and 0\n",
    "z.sort(reverse=True) # should be descending order"
   ]
  },
  {
   "cell_type": "code",
   "execution_count": 11,
   "id": "66d899ec",
   "metadata": {
    "ExecuteTime": {
     "end_time": "2024-11-03T12:04:16.840064Z",
     "start_time": "2024-11-03T12:04:15.814328Z"
    }
   },
   "outputs": [
    {
     "name": "stdout",
     "output_type": "stream",
     "text": [
      "Target     sigma8 = 0.7936507936507936 at z = 0.0\n",
      "Initial    sigma8 = 0.7628693474928042, As = 2e-09 (trial)\n",
      "Normalized sigma8 = 0.7936507936507937, diff=1.1102230246251565e-16, As = 2.1646544338903384e-09 (new)\n"
     ]
    }
   ],
   "source": [
    "pars    = initialize_camb_params(cosmo_params, z=z) # initialize\n",
    "pars    = adjust_As_at_z0(pars, cosmo_params) # normalization"
   ]
  },
  {
   "cell_type": "code",
   "execution_count": 12,
   "id": "fc7a4259",
   "metadata": {
    "ExecuteTime": {
     "end_time": "2024-11-03T12:04:17.095902Z",
     "start_time": "2024-11-03T12:04:17.094081Z"
    }
   },
   "outputs": [],
   "source": [
    "cosmo_params['As'] = pars.InitPower.As # update the As value"
   ]
  },
  {
   "cell_type": "code",
   "execution_count": 13,
   "id": "03946411",
   "metadata": {
    "ExecuteTime": {
     "end_time": "2024-11-03T12:04:17.668754Z",
     "start_time": "2024-11-03T12:04:17.227750Z"
    }
   },
   "outputs": [
    {
     "data": {
      "text/plain": [
       "(13, 217, 7)"
      ]
     },
     "execution_count": 13,
     "metadata": {},
     "output_type": "execute_result"
    }
   ],
   "source": [
    "results   = camb.get_results(pars)\n",
    "transfers = results.get_matter_transfer_data()\n",
    "T = transfers.transfer_data\n",
    "T.shape # [var, k, z]"
   ]
  },
  {
   "cell_type": "code",
   "execution_count": 14,
   "id": "6911dc13",
   "metadata": {
    "ExecuteTime": {
     "end_time": "2024-11-03T12:04:18.166308Z",
     "start_time": "2024-11-03T12:04:18.163429Z"
    }
   },
   "outputs": [
    {
     "name": "stdout",
     "output_type": "stream",
     "text": [
      "z_start: 200\n",
      "Lbox_cMpc: 131.072\n",
      "Lbox_cMpc/h: 94.37183999999999\n",
      "dx_fin_kpc: 1\n",
      "levelmin: 10\n",
      "levelmax: 17\n",
      "FlagAMR: 1\n",
      "FlagZoom: 0\n",
      "k0: 0.05\n",
      "As: 2.1646544338903384e-09\n",
      "ns: 0.96\n",
      "h: 0.72\n",
      "bias8_z0_WMAP5: 1.26\n",
      "Omega_m: 0.26\n",
      "Omega_b: 0.044\n",
      "Omega_k: 0.0\n",
      "w0: -1\n",
      "wa: 0\n",
      "kmax: 24.543692606170257\n",
      "k_per_logint: 0\n",
      "sigma8_z0_WMAP5: 0.7936507936507936\n",
      "Omega_c: 0.21600000000000003\n",
      "Omega_l: 0.74\n"
     ]
    }
   ],
   "source": [
    "header = \"\\n\".join([f\"{key}: {value}\" for key, value in cosmo_params.items()])\n",
    "print(header)"
   ]
  },
  {
   "cell_type": "code",
   "execution_count": 15,
   "id": "a8068449",
   "metadata": {
    "ExecuteTime": {
     "end_time": "2024-11-03T12:04:18.563667Z",
     "start_time": "2024-11-03T12:04:18.561633Z"
    }
   },
   "outputs": [],
   "source": [
    "# iz = z.index(z_start)\n",
    "iz = z.index(0)"
   ]
  },
  {
   "cell_type": "code",
   "execution_count": 16,
   "id": "243f440c",
   "metadata": {
    "ExecuteTime": {
     "end_time": "2024-11-03T12:04:19.502480Z",
     "start_time": "2024-11-03T12:04:19.496836Z"
    }
   },
   "outputs": [
    {
     "name": "stdout",
     "output_type": "stream",
     "text": [
      "MUSIC input data is created: ./camb_transfer_z000_cpl-1.0+0.0_lmin10.txt\n"
     ]
    }
   ],
   "source": [
    "plus_w0 = '+' if w0 >= 0 else ''\n",
    "plus_wa = '+' if wa >= 0 else ''\n",
    "fname = f\"camb_transfer_z{z[iz]:03.0f}_cpl{plus_w0}{w0:.1f}{plus_wa}{wa:.1f}_lmin{levelmin:02d}.txt\"\n",
    "np.savetxt(f\"./{fname}\", T[:,:,iz].T, fmt=\"%.10e\", header=header)\n",
    "print(f\"MUSIC input data is created: ./{fname}\")"
   ]
  },
  {
   "cell_type": "code",
   "execution_count": 17,
   "id": "25b73606",
   "metadata": {
    "ExecuteTime": {
     "end_time": "2024-11-03T12:04:19.763883Z",
     "start_time": "2024-11-03T12:04:19.761783Z"
    }
   },
   "outputs": [
    {
     "name": "stdout",
     "output_type": "stream",
     "text": [
      "The number of k values =  217\n"
     ]
    }
   ],
   "source": [
    "print(\"The number of k values = \", T.shape[1])"
   ]
  },
  {
   "cell_type": "code",
   "execution_count": null,
   "id": "5d5c8eb4",
   "metadata": {},
   "outputs": [],
   "source": []
  }
 ],
 "metadata": {
  "kernelspec": {
   "display_name": "Python 3 (ipykernel)",
   "language": "python",
   "name": "python3"
  },
  "language_info": {
   "codemirror_mode": {
    "name": "ipython",
    "version": 3
   },
   "file_extension": ".py",
   "mimetype": "text/x-python",
   "name": "python",
   "nbconvert_exporter": "python",
   "pygments_lexer": "ipython3",
   "version": "3.8.8"
  },
  "varInspector": {
   "cols": {
    "lenName": 16,
    "lenType": 16,
    "lenVar": 40
   },
   "kernels_config": {
    "python": {
     "delete_cmd_postfix": "",
     "delete_cmd_prefix": "del ",
     "library": "var_list.py",
     "varRefreshCmd": "print(var_dic_list())"
    },
    "r": {
     "delete_cmd_postfix": ") ",
     "delete_cmd_prefix": "rm(",
     "library": "var_list.r",
     "varRefreshCmd": "cat(var_dic_list()) "
    }
   },
   "types_to_exclude": [
    "module",
    "function",
    "builtin_function_or_method",
    "instance",
    "_Feature"
   ],
   "window_display": false
  }
 },
 "nbformat": 4,
 "nbformat_minor": 5
}
