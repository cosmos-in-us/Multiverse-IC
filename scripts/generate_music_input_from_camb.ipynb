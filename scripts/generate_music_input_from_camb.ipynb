{
 "cells": [
  {
   "cell_type": "code",
   "execution_count": 15,
   "id": "81e5f889",
   "metadata": {
    "ExecuteTime": {
     "end_time": "2024-10-21T09:24:57.177407Z",
     "start_time": "2024-10-21T09:24:57.174466Z"
    }
   },
   "outputs": [
    {
     "name": "stdout",
     "output_type": "stream",
     "text": [
      "Using CAMB 1.5.8 installed at /home/gilee/CAMB/camb\n"
     ]
    }
   ],
   "source": [
    "import os\n",
    "import numpy as np\n",
    "import matplotlib.pyplot as plt\n",
    "\n",
    "import camb\n",
    "from camb import model\n",
    "print(f'Using CAMB {camb.__version__} installed at {os.path.dirname(camb.__file__)}')"
   ]
  },
  {
   "cell_type": "code",
   "execution_count": 16,
   "id": "ca246a70",
   "metadata": {
    "ExecuteTime": {
     "end_time": "2024-10-21T09:24:57.413318Z",
     "start_time": "2024-10-21T09:24:57.408115Z"
    }
   },
   "outputs": [],
   "source": [
    "def initialize_camb_params(cosmo_params, z):\n",
    "    \n",
    "    h = cosmo_params['h']\n",
    "    Omega_b = cosmo_params['Omega_b']\n",
    "    Omega_c = cosmo_params['Omega_c']\n",
    "    Omega_k = cosmo_params['Omega_k']\n",
    "    w0 = cosmo_params['w0']\n",
    "    wa = cosmo_params['wa']\n",
    "    As = cosmo_params['As']\n",
    "    ns = cosmo_params['ns']\n",
    "    \n",
    "    pars = camb.CAMBparams()\n",
    "    pars.set_cosmology(H0=100*h, ombh2=Omega_b*h*h, omch2=Omega_c*h*h, omk=Omega_k)\n",
    "    pars.DarkEnergy = camb.dark_energy.DarkEnergyPPF(w=w0, wa=wa)\n",
    "    pars.InitPower.set_params(As=As, ns=ns)\n",
    "    pars.set_matter_power(redshifts=z, kmax=kmax, k_per_logint=k_per_logint)\n",
    "    pars.NonLinear = model.NonLinear_none\n",
    "    \n",
    "    return pars"
   ]
  },
  {
   "cell_type": "code",
   "execution_count": 17,
   "id": "529cda53",
   "metadata": {
    "ExecuteTime": {
     "end_time": "2024-10-21T09:24:57.798680Z",
     "start_time": "2024-10-21T09:24:57.792143Z"
    }
   },
   "outputs": [],
   "source": [
    "def adjust_As_at_z0(pars, cosmo_params, tolerance=1e-20, max_iterations=1000):\n",
    "    \n",
    "    z0 = pars.Transfer.PK_redshifts[0]\n",
    "    \n",
    "    if z0 != 0:\n",
    "        print(f\"Redshift should be 0 here.\")\n",
    "        return None\n",
    "    \n",
    "    iteration = 0\n",
    "    \n",
    "    results = camb.get_results(pars)\n",
    "    sigma8 = results.get_sigma8()\n",
    "    target_sigma8 = cosmo_params['sigma8_z0_WMAP5']\n",
    "    \n",
    "    print(f\"Target sigma8 = {target_sigma8} at z = {z0} (tolerance = {tolerance})\")\n",
    "    print(f\"Iteration {iteration}: sigma8 = {sigma8[0]}, diff={target_sigma8 - sigma8[0]}, As = {pars.InitPower.As} (trial)\")\n",
    "    \n",
    "    while (np.abs(target_sigma8 - sigma8[0]) > tolerance) and (iteration < max_iterations):\n",
    "        \n",
    "        iteration += 1\n",
    "        As = pars.InitPower.As * (target_sigma8 / sigma8[0])**2 # new normalization\n",
    "        pars.InitPower.set_params(As=As, ns=pars.InitPower.ns)\n",
    "        \n",
    "        # Get new results and sigma8 value\n",
    "        results = camb.get_results(pars)\n",
    "        sigma8 = results.get_sigma8()\n",
    "        print(f\"Iteration {iteration}: sigma8 = {sigma8[0]}, diff={target_sigma8 - sigma8[0]}, As = {pars.InitPower.As}\")\n",
    "        \n",
    "        \n",
    "    if iteration >= max_iterations:\n",
    "        print(\"Warning: Maximum iterations reached. The tolerance may be too strict.\")\n",
    "    else:\n",
    "        print(\"Converged successfully!\")\n",
    "        cosmo_params['As'] = As\n",
    "        print(\"As updated in cosmo_params.\")\n",
    "            \n",
    "    return pars"
   ]
  },
  {
   "cell_type": "code",
   "execution_count": 18,
   "id": "544bcb3c",
   "metadata": {
    "ExecuteTime": {
     "end_time": "2024-10-21T09:24:58.324580Z",
     "start_time": "2024-10-21T09:24:58.320859Z"
    }
   },
   "outputs": [],
   "source": [
    "bias8_z0_WMAP5  = 1.26             # target value\n",
    "sigma8_z0_WMAP5 = 1/bias8_z0_WMAP5 # target value # sigma8 at z=0\n",
    "\n",
    "As0       = 2e-9                   # trial value # power spectrum noramlization factor at k=k0\n",
    "ns        = 0.96                   # power spectral index\n",
    "h         = 0.72                   # little h, dimensionless hubble parameter, H0 = 100*h [km/s/Mpc]\n",
    "\n",
    "Omega_m   = 0.26                   # physical total matter density\n",
    "Omega_b   = 0.044                  # physical baryon density\n",
    "Omega_c   = Omega_m - Omega_b      # physical CDM (cold dark mattery) density\n",
    "Omega_l   = 1 - Omega_m            # DE (dark energy) density\n",
    "Omega_k   = 0.0                    # spatial curvature, omk = 1 - omt\n",
    "\n",
    "# EoS of DE\n",
    "w0 = -1\n",
    "wa = 0"
   ]
  },
  {
   "cell_type": "code",
   "execution_count": 19,
   "id": "e641e341",
   "metadata": {
    "ExecuteTime": {
     "end_time": "2024-10-21T09:24:58.809315Z",
     "start_time": "2024-10-21T09:24:58.806267Z"
    }
   },
   "outputs": [],
   "source": [
    "# Cosmological Parameters (WMAP5)\n",
    "cosmo_params = {\n",
    "    'As': As0, # trial number\n",
    "    'ns': ns,\n",
    "    'h': h,\n",
    "    'bias8_z0_WMAP5': bias8_z0_WMAP5,\n",
    "    'Omega_m': Omega_m,\n",
    "    'Omega_b': Omega_b,\n",
    "    'Omega_k': Omega_k,\n",
    "    'w0': w0,\n",
    "    'wa': wa\n",
    "}\n",
    "\n",
    "cosmo_params['sigma8_z0_WMAP5'] = 1/cosmo_params['bias8_z0_WMAP5']\n",
    "cosmo_params['Omega_c'] = cosmo_params['Omega_m'] - cosmo_params['Omega_b']\n",
    "cosmo_params['Omega_l'] = 1 - cosmo_params['Omega_m']"
   ]
  },
  {
   "cell_type": "code",
   "execution_count": 20,
   "id": "c78b9979",
   "metadata": {
    "ExecuteTime": {
     "end_time": "2024-10-21T09:24:59.461300Z",
     "start_time": "2024-10-21T09:24:59.456275Z"
    }
   },
   "outputs": [
    {
     "name": "stdout",
     "output_type": "stream",
     "text": [
      "\n",
      "WMAP5 Parameters:\n",
      "  bias8 =  1.26\n",
      "  sigma8 =  0.7936507936507936\n",
      "  Omega_m =  0.26\n",
      "  Omega_b =  0.044\n",
      "  Omega_c =  0.21600000000000003\n",
      "  Omega_l =  0.74\n",
      "  Omega_k =  0.0\n",
      "  w0 =  -1\n",
      "  wa =  0\n"
     ]
    }
   ],
   "source": [
    "print(\"\\nWMAP5 Parameters:\")\n",
    "print(\"  bias8 = \", bias8_z0_WMAP5)\n",
    "print(\"  sigma8 = \", sigma8_z0_WMAP5)\n",
    "print(\"  Omega_m = \", Omega_m)\n",
    "print(\"  Omega_b = \", Omega_b)\n",
    "print(\"  Omega_c = \", Omega_c)\n",
    "print(\"  Omega_l = \", Omega_l)\n",
    "print(\"  Omega_k = \", Omega_k)\n",
    "print(\"  w0 = \", w0)\n",
    "print(\"  wa = \", wa)"
   ]
  },
  {
   "cell_type": "code",
   "execution_count": 21,
   "id": "3e2aff61",
   "metadata": {
    "ExecuteTime": {
     "end_time": "2024-10-21T09:25:04.223248Z",
     "start_time": "2024-10-21T09:25:04.215934Z"
    }
   },
   "outputs": [
    {
     "name": "stdout",
     "output_type": "stream",
     "text": [
      "\n",
      "Simulation Box Setups:\n",
      "  z_start       =  200\n",
      "  a_start       =  0.004975124378109453\n",
      "\n",
      "  Lbox [cMpc]   =  16.384\n",
      "  Lbox [cMpc/h] =  11.796479999999999\n",
      "  dx_ini [ckpc] =  128.0\n",
      "  dx_ini [pkpc] =  0.6368159203980099\n",
      "  dx_fin [pkpc] =  1.0\n",
      "  levelmin      =  7\n",
      "  levelmax      =  14\n",
      "  Ncell_ini     =  128\n",
      "\n",
      "Power Sepctrum Parameters:\n",
      "\n",
      "  kmin   [1/Mpc] =  0.38349519697141027\n",
      "  kmin/h [1/Mpc] =  0.5326322180158476\n",
      "  kmax   [1/Mpc] =  24.543692606170257\n",
      "  kmax/h [1/Mpc] =  34.088461953014246\n"
     ]
    }
   ],
   "source": [
    "# starting redshift\n",
    "z_start = 200\n",
    "a_start = 1/(z_start+1)\n",
    "\n",
    "# simulation box setups\n",
    "levelmin = 7\n",
    "levelmax = levelmin + 7\n",
    "n_cell0  = 2**levelmin\n",
    "c_Lbox   = 2**levelmax / 1000 # [cMpc]\n",
    "c_dx0    = c_Lbox / n_cell0   # [cMpc]\n",
    "\n",
    "print(\"\\nSimulation Box Setups:\")\n",
    "print(\"  z_start       = \", z_start)\n",
    "print(\"  a_start       = \", a_start)\n",
    "\n",
    "print(\"\\n  Lbox [cMpc]   = \", c_Lbox)\n",
    "print(\"  Lbox [cMpc/h] = \", c_Lbox*h)\n",
    "print(\"  dx_ini [ckpc] = \", c_dx0 * 1000)\n",
    "print(\"  dx_ini [pkpc] = \", c_dx0 * 1000 / (z_start + 1))\n",
    "print(\"  dx_fin [pkpc] = \", c_dx0 * 1000 / 2**7)\n",
    "print(\"  levelmin      = \", levelmin)\n",
    "print(\"  levelmax      = \", levelmax)\n",
    "print(\"  Ncell_ini     = \", n_cell0)\n",
    "\n",
    "# power spectrum params\n",
    "kmin = 2 * np.pi / c_Lbox       # [1/Mpc] # largest scale (box size)\n",
    "kmax = np.pi * n_cell0 / c_Lbox # [1/Mpc] # smallest scale (Nyquist wavenumber)\n",
    "khmin = kmin/h                  # [1/Mpc] # largest scale (box size)\n",
    "khmax = kmax/h                  # [1/Mpc] # smallest scale (Nyquist wavenumber)\n",
    "k0  = 0.05                      # [1/Mpc] pivot_scalar\n",
    "kh0 = k0/h                      # [1/Mpc] pivot_scalar\n",
    "\n",
    "k_per_logint = 0 # default: 0 # affects the number of k values\n",
    "\n",
    "print(\"\\nPower Sepctrum Parameters:\")\n",
    "print(\"\\n  kmin   [1/Mpc] = \", kmin)\n",
    "print(\"  kmin/h [1/Mpc] = \", khmin)\n",
    "print(\"  kmax   [1/Mpc] = \", kmax)\n",
    "print(\"  kmax/h [1/Mpc] = \", khmax)"
   ]
  },
  {
   "cell_type": "code",
   "execution_count": 22,
   "id": "66d899ec",
   "metadata": {
    "ExecuteTime": {
     "end_time": "2024-10-21T09:25:08.411817Z",
     "start_time": "2024-10-21T09:25:06.515455Z"
    }
   },
   "outputs": [
    {
     "name": "stdout",
     "output_type": "stream",
     "text": [
      "Target sigma8 = 0.7936507936507936 at z = 0.0 (tolerance = 1e-20)\n",
      "Iteration 0: sigma8 = 0.7628693474928043, diff=0.03078144615798928, As = 2e-09 (trial)\n",
      "Iteration 1: sigma8 = 0.7936507936507937, diff=-1.1102230246251565e-16, As = 2.1646544338903376e-09\n",
      "Iteration 2: sigma8 = 0.7936507936507937, diff=-1.1102230246251565e-16, As = 2.164654433890337e-09\n",
      "Iteration 3: sigma8 = 0.7936507936507936, diff=0.0, As = 2.1646544338903368e-09\n",
      "Converged successfully!\n",
      "As updated in cosmo_params.\n"
     ]
    }
   ],
   "source": [
    "pars   = initialize_camb_params(cosmo_params, z=[0]) # initialize\n",
    "pars   = adjust_As_at_z0(pars, cosmo_params) # normalization"
   ]
  },
  {
   "cell_type": "code",
   "execution_count": 23,
   "id": "8930ba52",
   "metadata": {
    "ExecuteTime": {
     "end_time": "2024-10-21T09:25:08.447837Z",
     "start_time": "2024-10-21T09:25:08.443654Z"
    }
   },
   "outputs": [],
   "source": [
    "As = cosmo_params['As']"
   ]
  },
  {
   "cell_type": "code",
   "execution_count": 24,
   "id": "b8196d13",
   "metadata": {
    "ExecuteTime": {
     "end_time": "2024-10-21T09:25:08.795321Z",
     "start_time": "2024-10-21T09:25:08.468285Z"
    }
   },
   "outputs": [],
   "source": [
    "pars = initialize_camb_params(cosmo_params, z=[z_start])\n",
    "results = camb.get_results(pars)"
   ]
  },
  {
   "cell_type": "code",
   "execution_count": 25,
   "id": "e58d7def",
   "metadata": {
    "ExecuteTime": {
     "end_time": "2024-10-21T09:25:10.268167Z",
     "start_time": "2024-10-21T09:25:10.263877Z"
    }
   },
   "outputs": [
    {
     "data": {
      "text/plain": [
       "array([0.00548385])"
      ]
     },
     "execution_count": 25,
     "metadata": {},
     "output_type": "execute_result"
    }
   ],
   "source": [
    "results.get_sigma8()\n",
    "# get_sigma8(): 0.00548385 for 20xkmax\n",
    "# get_sigma8(): 0.00548385 for 10xkmax\n",
    "# get_sigma8(): 0.00548385 for kmax"
   ]
  },
  {
   "cell_type": "code",
   "execution_count": 12,
   "id": "03946411",
   "metadata": {
    "ExecuteTime": {
     "end_time": "2024-10-21T09:13:41.119085Z",
     "start_time": "2024-10-21T09:13:41.115229Z"
    }
   },
   "outputs": [],
   "source": [
    "transfers = results.get_matter_transfer_data()\n",
    "T = transfers.transfer_data"
   ]
  },
  {
   "cell_type": "code",
   "execution_count": 13,
   "id": "243f440c",
   "metadata": {
    "ExecuteTime": {
     "end_time": "2024-10-21T09:13:41.153180Z",
     "start_time": "2024-10-21T09:13:41.134731Z"
    }
   },
   "outputs": [
    {
     "name": "stdout",
     "output_type": "stream",
     "text": [
      "MUSIC input data is created: ./camb_transfer_z200_w0-1.0_wa+0.0_klogint100_kmax20.txt\n"
     ]
    }
   ],
   "source": [
    "plus_w0 = '+' if w0 >= 0 else ''\n",
    "plus_wa = '+' if wa >= 0 else ''\n",
    "fname = f\"camb_transfer_z{z_start:03.0f}_w0{plus_w0}{w0:.1f}_wa{plus_wa}{wa:.1f}_klogint{k_per_logint:03d}_kmax20.txt\"\n",
    "np.savetxt(f\"./{fname}\", T.reshape(T.shape[:2]).T, fmt=\"%.10e\")\n",
    "print(f\"MUSIC input data is created: ./{fname}\")"
   ]
  },
  {
   "cell_type": "code",
   "execution_count": 14,
   "id": "25b73606",
   "metadata": {
    "ExecuteTime": {
     "end_time": "2024-10-21T09:13:43.555925Z",
     "start_time": "2024-10-21T09:13:43.553324Z"
    }
   },
   "outputs": [
    {
     "name": "stdout",
     "output_type": "stream",
     "text": [
      "The number of k values =  901\n"
     ]
    }
   ],
   "source": [
    "print(\"The number of k values = \", T.shape[1])"
   ]
  },
  {
   "cell_type": "code",
   "execution_count": null,
   "id": "33116342",
   "metadata": {},
   "outputs": [],
   "source": []
  }
 ],
 "metadata": {
  "kernelspec": {
   "display_name": "Python 3 (ipykernel)",
   "language": "python",
   "name": "python3"
  },
  "language_info": {
   "codemirror_mode": {
    "name": "ipython",
    "version": 3
   },
   "file_extension": ".py",
   "mimetype": "text/x-python",
   "name": "python",
   "nbconvert_exporter": "python",
   "pygments_lexer": "ipython3",
   "version": "3.8.8"
  },
  "varInspector": {
   "cols": {
    "lenName": 16,
    "lenType": 16,
    "lenVar": 40
   },
   "kernels_config": {
    "python": {
     "delete_cmd_postfix": "",
     "delete_cmd_prefix": "del ",
     "library": "var_list.py",
     "varRefreshCmd": "print(var_dic_list())"
    },
    "r": {
     "delete_cmd_postfix": ") ",
     "delete_cmd_prefix": "rm(",
     "library": "var_list.r",
     "varRefreshCmd": "cat(var_dic_list()) "
    }
   },
   "types_to_exclude": [
    "module",
    "function",
    "builtin_function_or_method",
    "instance",
    "_Feature"
   ],
   "window_display": false
  }
 },
 "nbformat": 4,
 "nbformat_minor": 5
}
